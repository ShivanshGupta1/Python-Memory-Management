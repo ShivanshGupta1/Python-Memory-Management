{
  "nbformat": 4,
  "nbformat_minor": 0,
  "metadata": {
    "colab": {
      "name": "Python Memory Management (GitHub).ipynb",
      "provenance": [],
      "authorship_tag": "ABX9TyPuozGnMeq/e1TnBLUngz1k",
      "include_colab_link": true
    },
    "kernelspec": {
      "name": "python3",
      "display_name": "Python 3"
    }
  },
  "cells": [
    {
      "cell_type": "markdown",
      "metadata": {
        "id": "view-in-github",
        "colab_type": "text"
      },
      "source": [
        "<a href=\"https://colab.research.google.com/github/ShivanshGupta1/Python-Memory-Management/blob/main/Python_Memory_Management_(GitHub).ipynb\" target=\"_parent\"><img src=\"https://colab.research.google.com/assets/colab-badge.svg\" alt=\"Open In Colab\"/></a>"
      ]
    },
    {
      "cell_type": "code",
      "metadata": {
        "id": "GQuzaShGY9MR"
      },
      "source": [
        "#PythonMemoryManagement\n",
        "#id is the address of the Memmory stored\n",
        "x = 50\n",
        "print(id(x))\n",
        "#class is a collection of functions\n",
        "#class - a user defined datatype\n",
        "#object\n",
        "#to access the prpoerties of a class, we need to make  an object of it\n",
        "#class has many properties such as class - int\" and its property is all the whole number\n",
        "# in \"x=30\", x is the reference object that points towards 30, that is the object\n",
        "#in object "
      ],
      "execution_count": null,
      "outputs": []
    },
    {
      "cell_type": "code",
      "metadata": {
        "id": "H7LQOC1FY_By"
      },
      "source": [
        "a = int(input('Number 1: '))\n",
        "b = int(input('Number 2: '))\n",
        "if id(a)==id(b):\n",
        "  print('It is equal')\n",
        "else:\n",
        "  print('Not equal')"
      ],
      "execution_count": null,
      "outputs": []
    }
  ]
}